{
 "cells": [
  {
   "cell_type": "markdown",
   "id": "7fdee8a8",
   "metadata": {},
   "source": [
    "Predicting Housing Prices in Melbourne: Decision Tree"
   ]
  },
  {
   "cell_type": "markdown",
   "id": "95c63e7f",
   "metadata": {},
   "source": []
  },
  {
   "cell_type": "code",
   "execution_count": 2,
   "id": "9afb3ae6",
   "metadata": {},
   "outputs": [],
   "source": [
    "import pandas as pd\n",
    "import os\n",
    "\n",
    "#path to housing data\n",
    "HOUSING_DATA_PATH = os.path.join(\"datasets\",\"housing\")\n",
    "\n",
    "#load housing data\n",
    "melb_data = pd.read_csv(HOUSING_DATA_PATH+\"/melb_housing_data.csv\")"
   ]
  },
  {
   "cell_type": "code",
   "execution_count": 3,
   "id": "ca5c60d9",
   "metadata": {},
   "outputs": [],
   "source": [
    "#label\n",
    "y=melb_data.Price\n",
    "\n",
    "#features\n",
    "X = melb_data.drop([\"Price\"], axis=1)"
   ]
  },
  {
   "cell_type": "code",
   "execution_count": 4,
   "id": "e8e55a0c",
   "metadata": {},
   "outputs": [],
   "source": [
    "#split data into training and test data\n",
    "from sklearn.model_selection import train_test_split\n",
    "\n",
    "X_train_full, X_valid_full, y_train, y_valid = train_test_split(\n",
    "    X,y,train_size=0.8, test_size=0.2, random_state=0\n",
    ")\n"
   ]
  },
  {
   "cell_type": "code",
   "execution_count": 12,
   "id": "1100f4ef",
   "metadata": {},
   "outputs": [],
   "source": [
    "#select numerical columns\n",
    "numerical_columns= list(\n",
    "    X_train_full.select_dtypes(include=['float64', 'int64'])\n",
    "    .columns\n",
    ")\n",
    "\n",
    "#select categorical columns\n",
    "categorical_columns = [\n",
    "    col for col in X_train_full.columns\n",
    "    if X_train_full[col].nunique() <= 15 and X_train_full[col].dtype == 'object'\n",
    "    ]\n",
    "\n",
    "#Keep the selected columns only\n",
    "selected_columns=categorical_columns + numerical_columns\n",
    "X_train = X_train_full[selected_columns].copy()\n",
    "X_valid = X_valid_full[selected_columns].copy()"
   ]
  },
  {
   "cell_type": "code",
   "execution_count": 14,
   "id": "b40a759c",
   "metadata": {},
   "outputs": [],
   "source": [
    "#processing data\n",
    "from sklearn.impute import SimpleImputer\n",
    "from sklearn.pipeline import Pipeline\n",
    "from sklearn.compose import ColumnTransformer\n",
    "from sklearn.preprocessing import OneHotEncoder, StandardScaler\n",
    "\n",
    "#preprocessing for numerical data\n",
    "numerical_transformer = Pipeline(\n",
    "    steps=[\n",
    "        ('imputer', SimpleImputer(strategy='mean')),\n",
    "        ('standard_scaler', StandardScaler())\n",
    "    ])\n",
    "\n",
    "#preprocessing for categorical data\n",
    "categorical_transformer = Pipeline(steps=[\n",
    "    ('imputer', SimpleImputer(strategy='most_frequent')),\n",
    "    ('onehot_encoder', OneHotEncoder(handle_unknown='ignore'))\n",
    "])\n",
    "\n",
    "#Bundle preprocessing for numerical and categorical data\n",
    "preprocessor = ColumnTransformer(transformers=[\n",
    "    ('num_transformer', numerical_transformer, numerical_columns),\n",
    "    ('categorical_transfomer', categorical_transformer, categorical_columns)\n",
    "])\n"
   ]
  },
  {
   "cell_type": "code",
   "execution_count": 15,
   "id": "72e7b3d9",
   "metadata": {},
   "outputs": [],
   "source": [
    "#define model\n",
    "from sklearn.ensemble import RandomForestRegressor\n",
    "\n",
    "model = RandomForestRegressor(n_estimators=100, random_state=0)"
   ]
  },
  {
   "cell_type": "code",
   "execution_count": 16,
   "id": "75937509",
   "metadata": {},
   "outputs": [
    {
     "name": "stdout",
     "output_type": "stream",
     "text": [
      "Mean Absolute Error:  160811.53551195737\n"
     ]
    }
   ],
   "source": [
    "from sklearn.metrics import mean_absolute_error\n",
    "#bundle preprocessing and modeling code in a pipeline\n",
    "pipeline = Pipeline(steps=[\n",
    "    ('preprocessor', preprocessor),\n",
    "    ('model', model)\n",
    "])\n",
    "\n",
    "#preprocessing of training data, fit model\n",
    "pipeline.fit(X_train, y_train)\n",
    "\n",
    "#preprocessing of training data, get predictions\n",
    "predictions = pipeline.predict(X_valid)\n",
    "\n",
    "#evaluate the model\n",
    "score = mean_absolute_error(y_valid, predictions)\n",
    "\n",
    "print('Mean Absolute Error: ', score)"
   ]
  },
  {
   "cell_type": "code",
   "execution_count": null,
   "id": "8b3d0f50",
   "metadata": {},
   "outputs": [],
   "source": []
  }
 ],
 "metadata": {
  "interpreter": {
   "hash": "2be5faf79681da6f2a61fdfdd5405d65d042280f7fba6178067603e3a2925119"
  },
  "kernelspec": {
   "display_name": "Python 3 (ipykernel)",
   "language": "python",
   "name": "python3"
  },
  "language_info": {
   "codemirror_mode": {
    "name": "ipython",
    "version": 3
   },
   "file_extension": ".py",
   "mimetype": "text/x-python",
   "name": "python",
   "nbconvert_exporter": "python",
   "pygments_lexer": "ipython3",
   "version": "3.10.1"
  }
 },
 "nbformat": 4,
 "nbformat_minor": 5
}
