{
 "cells": [
  {
   "cell_type": "markdown",
   "id": "7fdee8a8",
   "metadata": {},
   "source": [
    "Predicting Housing Prices in Melbourne: Decision Tree"
   ]
  },
  {
   "cell_type": "markdown",
   "id": "95c63e7f",
   "metadata": {},
   "source": []
  },
  {
   "cell_type": "code",
   "execution_count": 2,
   "id": "9afb3ae6",
   "metadata": {},
   "outputs": [],
   "source": [
    "import pandas as pd\n",
    "import os\n",
    "\n",
    "#path to housing data\n",
    "HOUSING_DATA_PATH = os.path.join(\"datasets\",\"housing\")\n",
    "\n",
    "#load housing data\n",
    "melb_data = pd.read_csv(HOUSING_DATA_PATH+\"/melb_housing_data.csv\")"
   ]
  },
  {
   "cell_type": "code",
   "execution_count": 25,
   "id": "ca5c60d9",
   "metadata": {},
   "outputs": [],
   "source": [
    "#label\n",
    "X=melb_data.Price\n",
    "\n",
    "#features\n",
    "y = melb_data.drop([\"Price\"], axis=1)"
   ]
  },
  {
   "cell_type": "code",
   "execution_count": 49,
   "id": "e8e55a0c",
   "metadata": {},
   "outputs": [],
   "source": [
    "#split data into training and test data\n",
    "from sklearn.model_selection import train_test_split\n",
    "\n",
    "X_train, X_valid, y_train, y_valid = train_test_split(\n",
    "    X,y,train_size=0.8, test_size=0.2, random_state=0\n",
    ")"
   ]
  },
  {
   "cell_type": "code",
   "execution_count": 51,
   "id": "e7197d21",
   "metadata": {},
   "outputs": [
    {
     "data": {
      "text/plain": [
       "(10864,)"
      ]
     },
     "execution_count": 51,
     "metadata": {},
     "output_type": "execute_result"
    }
   ],
   "source": [
    "X_train.shape"
   ]
  },
  {
   "cell_type": "code",
   "execution_count": null,
   "id": "d6f755f7",
   "metadata": {},
   "outputs": [],
   "source": []
  }
 ],
 "metadata": {
  "interpreter": {
   "hash": "2be5faf79681da6f2a61fdfdd5405d65d042280f7fba6178067603e3a2925119"
  },
  "kernelspec": {
   "display_name": "Python 3 (ipykernel)",
   "language": "python",
   "name": "python3"
  },
  "language_info": {
   "codemirror_mode": {
    "name": "ipython",
    "version": 3
   },
   "file_extension": ".py",
   "mimetype": "text/x-python",
   "name": "python",
   "nbconvert_exporter": "python",
   "pygments_lexer": "ipython3",
   "version": "3.10.1"
  }
 },
 "nbformat": 4,
 "nbformat_minor": 5
}
